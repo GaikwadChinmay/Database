{
  "nbformat": 4,
  "nbformat_minor": 0,
  "metadata": {
    "colab": {
      "name": "Database_Notes.ipynb",
      "provenance": [],
      "collapsed_sections": []
    },
    "kernelspec": {
      "name": "python3",
      "display_name": "Python 3"
    },
    "language_info": {
      "name": "python"
    }
  },
  "cells": [
    {
      "cell_type": "markdown",
      "metadata": {
        "id": "9mUko2fj7aWL"
      },
      "source": [
        "####Data Warehouse\n",
        "\n",
        "Data Warehouse is a central repoistory of data from various data source systems. Data Warehouse provides data to downstream business applications to work and get analytics.\n",
        "\n",
        "It has the following properties:\n",
        "\n",
        "1.   Subject-oriented: A data warehouse should contain information about a few well-defined subjects rather than the enterprise.\n",
        "2.   Integrated: A data warehouse is an integrated repository of data. It contains information from various systems within an organisation.\n",
        "3.   Non-volatile: The data values in a database cannot be changed without a valid reason.\n",
        "4.   Time-variant: A data warehouse contains historical data for analysis.\n",
        "\n",
        "###Structure of Data Warehouse\n",
        "\n",
        "Primary method of designing Data Warehouse is Dimensional Modelling\n",
        "Key elements of Dimensional Modelling:\n",
        "\n",
        "\n",
        "1.   Facts: Records (Numeric attributes)\n",
        "2.   Dimensions: Columns \n",
        "\n",
        "\n",
        "###Schema\n",
        "\n",
        "Schema is an outline of entire database. It shows how different data sets are interconnected and what attributes are shared amongst data sets.\n",
        "\n"
      ]
    },
    {
      "cell_type": "markdown",
      "metadata": {
        "id": "VKC-78e57agY"
      },
      "source": [
        ""
      ]
    },
    {
      "cell_type": "markdown",
      "metadata": {
        "id": "RiHSxCVQ7ajY"
      },
      "source": [
        ""
      ]
    },
    {
      "cell_type": "markdown",
      "metadata": {
        "id": "Lrwsg-2f7am2"
      },
      "source": [
        ""
      ]
    },
    {
      "cell_type": "markdown",
      "metadata": {
        "id": "hqAhe5e07arY"
      },
      "source": [
        ""
      ]
    },
    {
      "cell_type": "markdown",
      "metadata": {
        "id": "iGqtSXQQ7auz"
      },
      "source": [
        ""
      ]
    }
  ]
}